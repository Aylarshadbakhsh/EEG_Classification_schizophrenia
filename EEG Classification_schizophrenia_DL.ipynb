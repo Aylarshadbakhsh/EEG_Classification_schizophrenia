{
  "cells": [
    {
      "cell_type": "code",
      "execution_count": 2,
      "id": "d4809c9f",
      "metadata": {
        "colab": {
          "base_uri": "https://localhost:8080/"
        },
        "id": "d4809c9f",
        "outputId": "1c6a9061-bda7-49ff-cc7e-8cb7c03afef2"
      },
      "outputs": [
        {
          "name": "stdout",
          "output_type": "stream",
          "text": [
            "Requirement already satisfied: mne in /usr/local/lib/python3.10/dist-packages (1.8.0)\n",
            "Requirement already satisfied: decorator in /usr/local/lib/python3.10/dist-packages (from mne) (5.1.1)\n",
            "Requirement already satisfied: jinja2 in /usr/local/lib/python3.10/dist-packages (from mne) (3.1.4)\n",
            "Requirement already satisfied: lazy-loader>=0.3 in /usr/local/lib/python3.10/dist-packages (from mne) (0.4)\n",
            "Requirement already satisfied: matplotlib>=3.6 in /usr/local/lib/python3.10/dist-packages (from mne) (3.7.1)\n",
            "Requirement already satisfied: numpy<3,>=1.23 in /usr/local/lib/python3.10/dist-packages (from mne) (1.26.4)\n",
            "Requirement already satisfied: packaging in /usr/local/lib/python3.10/dist-packages (from mne) (24.1)\n",
            "Requirement already satisfied: pooch>=1.5 in /usr/local/lib/python3.10/dist-packages (from mne) (1.8.2)\n",
            "Requirement already satisfied: scipy>=1.9 in /usr/local/lib/python3.10/dist-packages (from mne) (1.13.1)\n",
            "Requirement already satisfied: tqdm in /usr/local/lib/python3.10/dist-packages (from mne) (4.66.5)\n",
            "Requirement already satisfied: contourpy>=1.0.1 in /usr/local/lib/python3.10/dist-packages (from matplotlib>=3.6->mne) (1.3.0)\n",
            "Requirement already satisfied: cycler>=0.10 in /usr/local/lib/python3.10/dist-packages (from matplotlib>=3.6->mne) (0.12.1)\n",
            "Requirement already satisfied: fonttools>=4.22.0 in /usr/local/lib/python3.10/dist-packages (from matplotlib>=3.6->mne) (4.54.1)\n",
            "Requirement already satisfied: kiwisolver>=1.0.1 in /usr/local/lib/python3.10/dist-packages (from matplotlib>=3.6->mne) (1.4.7)\n",
            "Requirement already satisfied: pillow>=6.2.0 in /usr/local/lib/python3.10/dist-packages (from matplotlib>=3.6->mne) (11.0.0)\n",
            "Requirement already satisfied: pyparsing>=2.3.1 in /usr/local/lib/python3.10/dist-packages (from matplotlib>=3.6->mne) (3.2.0)\n",
            "Requirement already satisfied: python-dateutil>=2.7 in /usr/local/lib/python3.10/dist-packages (from matplotlib>=3.6->mne) (2.9.0.post0)\n",
            "Requirement already satisfied: platformdirs>=2.5.0 in /usr/local/lib/python3.10/dist-packages (from pooch>=1.5->mne) (4.3.6)\n",
            "Requirement already satisfied: requests>=2.19.0 in /usr/local/lib/python3.10/dist-packages (from pooch>=1.5->mne) (2.32.3)\n",
            "Requirement already satisfied: MarkupSafe>=2.0 in /usr/local/lib/python3.10/dist-packages (from jinja2->mne) (3.0.2)\n",
            "Requirement already satisfied: six>=1.5 in /usr/local/lib/python3.10/dist-packages (from python-dateutil>=2.7->matplotlib>=3.6->mne) (1.16.0)\n",
            "Requirement already satisfied: charset-normalizer<4,>=2 in /usr/local/lib/python3.10/dist-packages (from requests>=2.19.0->pooch>=1.5->mne) (3.4.0)\n",
            "Requirement already satisfied: idna<4,>=2.5 in /usr/local/lib/python3.10/dist-packages (from requests>=2.19.0->pooch>=1.5->mne) (3.10)\n",
            "Requirement already satisfied: urllib3<3,>=1.21.1 in /usr/local/lib/python3.10/dist-packages (from requests>=2.19.0->pooch>=1.5->mne) (2.2.3)\n",
            "Requirement already satisfied: certifi>=2017.4.17 in /usr/local/lib/python3.10/dist-packages (from requests>=2.19.0->pooch>=1.5->mne) (2024.8.30)\n"
          ]
        }
      ],
      "source": [
        "!pip install mne"
      ]
    },
    {
      "cell_type": "code",
      "execution_count": 3,
      "id": "9c4a3bc5",
      "metadata": {
        "id": "9c4a3bc5"
      },
      "outputs": [],
      "source": [
        "import tensorflow as tf\n",
        "import glob\n",
        "import os\n",
        "import mne\n",
        "import numpy as np\n",
        "import matplotlib.pyplot as plt\n",
        "import pandas as pd\n",
        "from scipy.io import loadmat"
      ]
    },
    {
      "cell_type": "code",
      "execution_count": 4,
      "id": "2b11214d",
      "metadata": {
        "colab": {
          "base_uri": "https://localhost:8080/"
        },
        "id": "2b11214d",
        "outputId": "1c9f578c-f4ad-48e3-bd3d-6fdc851a31dc"
      },
      "outputs": [
        {
          "name": "stdout",
          "output_type": "stream",
          "text": [
            "Mounted at /content/drive\n"
          ]
        }
      ],
      "source": [
        "from google.colab import drive\n",
        "drive.mount(\"/content/drive\", force_remount=True)\n",
        "data_folder = '/content/drive/My Drive/Data'"
      ]
    },
    {
      "cell_type": "code",
      "execution_count": 5,
      "id": "foT1lvcAVGXX",
      "metadata": {
        "colab": {
          "base_uri": "https://localhost:8080/"
        },
        "id": "foT1lvcAVGXX",
        "outputId": "08df2962-4289-426a-d32f-fce36bb37545"
      },
      "outputs": [
        {
          "data": {
            "text/plain": [
              "28"
            ]
          },
          "execution_count": 5,
          "metadata": {},
          "output_type": "execute_result"
        }
      ],
      "source": [
        "all_files_path = glob.glob(os.path.join(data_folder, '*.edf'))\n",
        "len(all_files_path)"
      ]
    },
    {
      "cell_type": "code",
      "execution_count": 6,
      "id": "3126e54c",
      "metadata": {
        "colab": {
          "base_uri": "https://localhost:8080/",
          "height": 36
        },
        "id": "3126e54c",
        "outputId": "8da1bd07-124a-4b10-8ef8-05e8d7870072"
      },
      "outputs": [
        {
          "data": {
            "application/vnd.google.colaboratory.intrinsic+json": {
              "type": "string"
            },
            "text/plain": [
              "'/content/drive/My Drive/Data/h01.edf'"
            ]
          },
          "execution_count": 6,
          "metadata": {},
          "output_type": "execute_result"
        }
      ],
      "source": [
        "all_files_path[0]"
      ]
    },
    {
      "cell_type": "code",
      "execution_count": 7,
      "id": "7bd827d0",
      "metadata": {
        "id": "7bd827d0"
      },
      "outputs": [],
      "source": [
        "healthy_file_path = [i for i in all_files_path if 'h' in i.split('/')[-1]]\n",
        "patient_file_path = [i for i in all_files_path if 's' in i.split('/')[-1]]"
      ]
    },
    {
      "cell_type": "code",
      "execution_count": 8,
      "id": "wR8rmkmGW8tT",
      "metadata": {
        "colab": {
          "base_uri": "https://localhost:8080/"
        },
        "id": "wR8rmkmGW8tT",
        "outputId": "aa67f345-d08b-43aa-9745-3ecdd98029e6"
      },
      "outputs": [
        {
          "data": {
            "text/plain": [
              "['/content/drive/My Drive/Data/h01.edf',\n",
              " '/content/drive/My Drive/Data/h02.edf',\n",
              " '/content/drive/My Drive/Data/h03.edf',\n",
              " '/content/drive/My Drive/Data/h04.edf',\n",
              " '/content/drive/My Drive/Data/h05.edf',\n",
              " '/content/drive/My Drive/Data/h06.edf',\n",
              " '/content/drive/My Drive/Data/h07.edf',\n",
              " '/content/drive/My Drive/Data/h08.edf',\n",
              " '/content/drive/My Drive/Data/h09.edf',\n",
              " '/content/drive/My Drive/Data/h10.edf',\n",
              " '/content/drive/My Drive/Data/h11.edf',\n",
              " '/content/drive/My Drive/Data/h12.edf',\n",
              " '/content/drive/My Drive/Data/h13.edf',\n",
              " '/content/drive/My Drive/Data/h14.edf']"
            ]
          },
          "execution_count": 8,
          "metadata": {},
          "output_type": "execute_result"
        }
      ],
      "source": [
        "healthy_file_path"
      ]
    },
    {
      "cell_type": "code",
      "execution_count": 9,
      "id": "OBq5pGBoW-fY",
      "metadata": {
        "colab": {
          "base_uri": "https://localhost:8080/"
        },
        "id": "OBq5pGBoW-fY",
        "outputId": "a640c098-0d71-4eb8-95ae-f1e856d33e85"
      },
      "outputs": [
        {
          "data": {
            "text/plain": [
              "['/content/drive/My Drive/Data/s01.edf',\n",
              " '/content/drive/My Drive/Data/s02.edf',\n",
              " '/content/drive/My Drive/Data/s03.edf',\n",
              " '/content/drive/My Drive/Data/s04.edf',\n",
              " '/content/drive/My Drive/Data/s05.edf',\n",
              " '/content/drive/My Drive/Data/s06.edf',\n",
              " '/content/drive/My Drive/Data/s07.edf',\n",
              " '/content/drive/My Drive/Data/s08.edf',\n",
              " '/content/drive/My Drive/Data/s09.edf',\n",
              " '/content/drive/My Drive/Data/s10.edf',\n",
              " '/content/drive/My Drive/Data/s11.edf',\n",
              " '/content/drive/My Drive/Data/s12.edf',\n",
              " '/content/drive/My Drive/Data/s13.edf',\n",
              " '/content/drive/My Drive/Data/s14.edf']"
            ]
          },
          "execution_count": 9,
          "metadata": {},
          "output_type": "execute_result"
        }
      ],
      "source": [
        "patient_file_path"
      ]
    },
    {
      "cell_type": "code",
      "execution_count": 10,
      "id": "1d84e167",
      "metadata": {
        "id": "1d84e167"
      },
      "outputs": [],
      "source": [
        "def read_data(file_path):\n",
        "    datax=mne.io.read_raw_edf(file_path,preload=True)\n",
        "    datax.set_eeg_reference()\n",
        "    datax.filter(l_freq=1,h_freq=45)\n",
        "    epochs=mne.make_fixed_length_epochs(datax,duration=25,overlap=0)\n",
        "    epochs=epochs.get_data()\n",
        "    return epochs #trials,channel,length"
      ]
    },
    {
      "cell_type": "code",
      "execution_count": 11,
      "id": "b1352819",
      "metadata": {
        "colab": {
          "base_uri": "https://localhost:8080/"
        },
        "id": "b1352819",
        "outputId": "d547e9fe-7d04-4ab0-e08c-f6806da33ab8"
      },
      "outputs": [
        {
          "name": "stdout",
          "output_type": "stream",
          "text": [
            "Extracting EDF parameters from /content/drive/My Drive/Data/h01.edf...\n",
            "EDF file detected\n",
            "Setting channel info structure...\n",
            "Creating raw.info structure...\n",
            "Reading 0 ... 231249  =      0.000 ...   924.996 secs...\n",
            "EEG channel type selected for re-referencing\n",
            "Applying average reference.\n",
            "Applying a custom ('EEG',) reference.\n",
            "Filtering raw data in 1 contiguous segment\n",
            "Setting up band-pass filter from 1 - 45 Hz\n",
            "\n",
            "FIR filter parameters\n",
            "---------------------\n",
            "Designing a one-pass, zero-phase, non-causal bandpass filter:\n",
            "- Windowed time-domain design (firwin) method\n",
            "- Hamming window with 0.0194 passband ripple and 53 dB stopband attenuation\n",
            "- Lower passband edge: 1.00\n",
            "- Lower transition bandwidth: 1.00 Hz (-6 dB cutoff frequency: 0.50 Hz)\n",
            "- Upper passband edge: 45.00 Hz\n",
            "- Upper transition bandwidth: 11.25 Hz (-6 dB cutoff frequency: 50.62 Hz)\n",
            "- Filter length: 825 samples (3.300 s)\n",
            "\n",
            "Not setting metadata\n",
            "37 matching events found\n",
            "No baseline correction applied\n",
            "0 projection items activated\n",
            "Using data from preloaded Raw for 37 events and 6250 original time points ...\n",
            "0 bad epochs dropped\n"
          ]
        },
        {
          "name": "stderr",
          "output_type": "stream",
          "text": [
            "[Parallel(n_jobs=1)]: Done  17 tasks      | elapsed:    0.1s\n"
          ]
        }
      ],
      "source": [
        "data=read_data(healthy_file_path[0])"
      ]
    },
    {
      "cell_type": "code",
      "execution_count": 12,
      "id": "a48348ea",
      "metadata": {
        "colab": {
          "base_uri": "https://localhost:8080/"
        },
        "id": "a48348ea",
        "outputId": "df200bcf-7b44-4295-fa67-6e5d779444d0"
      },
      "outputs": [
        {
          "data": {
            "text/plain": [
              "(37, 19, 6250)"
            ]
          },
          "execution_count": 12,
          "metadata": {},
          "output_type": "execute_result"
        }
      ],
      "source": [
        "data.shape"
      ]
    },
    {
      "cell_type": "code",
      "execution_count": 13,
      "id": "e6aea13c",
      "metadata": {
        "id": "e6aea13c"
      },
      "outputs": [],
      "source": [
        "%%capture\n",
        "control_epochs_array=[read_data(subject) for subject in healthy_file_path]\n",
        "patients_epochs_array=[read_data(subject) for subject in patient_file_path]"
      ]
    },
    {
      "cell_type": "code",
      "execution_count": 14,
      "id": "1110efbc",
      "metadata": {
        "colab": {
          "base_uri": "https://localhost:8080/"
        },
        "id": "1110efbc",
        "outputId": "a30a2534-eba7-4a9b-c1b1-775907252979"
      },
      "outputs": [
        {
          "name": "stdout",
          "output_type": "stream",
          "text": [
            "14 14\n"
          ]
        }
      ],
      "source": [
        "control_epochs_labels=[len(i)*[0] for i in control_epochs_array]\n",
        "patients_epochs_labels=[len(i)*[1] for i in patients_epochs_array]\n",
        "print(len(control_epochs_labels),len(patients_epochs_labels))"
      ]
    },
    {
      "cell_type": "code",
      "execution_count": 15,
      "id": "f4993102",
      "metadata": {
        "colab": {
          "base_uri": "https://localhost:8080/"
        },
        "id": "f4993102",
        "outputId": "0ca17c83-8868-41c0-b963-59ed507a978a"
      },
      "outputs": [
        {
          "name": "stdout",
          "output_type": "stream",
          "text": [
            "28 28\n"
          ]
        }
      ],
      "source": [
        "data_list=control_epochs_array+patients_epochs_array\n",
        "label_list=control_epochs_labels+patients_epochs_labels\n",
        "print(len(data_list),len(label_list))"
      ]
    },
    {
      "cell_type": "code",
      "execution_count": 16,
      "id": "4ea68f45",
      "metadata": {
        "id": "4ea68f45"
      },
      "outputs": [],
      "source": [
        "groups_list=[[i]*len(j) for i, j in enumerate(data_list)]"
      ]
    },
    {
      "cell_type": "code",
      "execution_count": 17,
      "id": "b6f64fbb",
      "metadata": {
        "colab": {
          "base_uri": "https://localhost:8080/"
        },
        "id": "b6f64fbb",
        "outputId": "48ce75c1-ebb5-4fa2-9835-154a4a8e8665"
      },
      "outputs": [
        {
          "name": "stdout",
          "output_type": "stream",
          "text": [
            "(1142, 6250, 19) (1142,) (1142,)\n"
          ]
        }
      ],
      "source": [
        "data_array=np.vstack(data_list)\n",
        "label_array=np.hstack(label_list)\n",
        "group_array=np.hstack(groups_list)\n",
        "data_array=np.moveaxis(data_array,1,2)\n",
        "\n",
        "print(data_array.shape,label_array.shape,group_array.shape)"
      ]
    },
    {
      "cell_type": "code",
      "execution_count": 19,
      "id": "nILNyT9LasHC",
      "metadata": {
        "colab": {
          "base_uri": "https://localhost:8080/"
        },
        "id": "nILNyT9LasHC",
        "outputId": "ae55ad4e-967b-4238-e02d-090da596fee8"
      },
      "outputs": [
        {
          "name": "stdout",
          "output_type": "stream",
          "text": [
            "Model: \"sequential\"\n",
            "_________________________________________________________________\n",
            " Layer (type)                Output Shape              Param #   \n",
            "=================================================================\n",
            " conv1d (Conv1D)             (None, 6248, 16)          928       \n",
            "                                                                 \n",
            " batch_normalization (Batch  (None, 6248, 16)          64        \n",
            " Normalization)                                                  \n",
            "                                                                 \n",
            " leaky_re_lu (LeakyReLU)     (None, 6248, 16)          0         \n",
            "                                                                 \n",
            " max_pooling1d (MaxPooling1  (None, 3124, 16)          0         \n",
            " D)                                                              \n",
            "                                                                 \n",
            " conv1d_1 (Conv1D)           (None, 3122, 32)          1568      \n",
            "                                                                 \n",
            " batch_normalization_1 (Bat  (None, 3122, 32)          128       \n",
            " chNormalization)                                                \n",
            "                                                                 \n",
            " leaky_re_lu_1 (LeakyReLU)   (None, 3122, 32)          0         \n",
            "                                                                 \n",
            " max_pooling1d_1 (MaxPoolin  (None, 1561, 32)          0         \n",
            " g1D)                                                            \n",
            "                                                                 \n",
            " dropout (Dropout)           (None, 1561, 32)          0         \n",
            "                                                                 \n",
            " conv1d_2 (Conv1D)           (None, 1559, 64)          6208      \n",
            "                                                                 \n",
            " batch_normalization_2 (Bat  (None, 1559, 64)          256       \n",
            " chNormalization)                                                \n",
            "                                                                 \n",
            " leaky_re_lu_2 (LeakyReLU)   (None, 1559, 64)          0         \n",
            "                                                                 \n",
            " global_average_pooling1d (  (None, 64)                0         \n",
            " GlobalAveragePooling1D)                                         \n",
            "                                                                 \n",
            " dense (Dense)               (None, 1)                 65        \n",
            "                                                                 \n",
            "=================================================================\n",
            "Total params: 9217 (36.00 KB)\n",
            "Trainable params: 8993 (35.13 KB)\n",
            "Non-trainable params: 224 (896.00 Byte)\n",
            "_________________________________________________________________\n"
          ]
        }
      ],
      "source": [
        "from tensorflow.keras.layers import Conv1D, BatchNormalization, LeakyReLU, MaxPool1D, GlobalAveragePooling1D, Dense, Dropout\n",
        "from tensorflow.keras.models import Sequential\n",
        "from tensorflow.keras.backend import clear_session\n",
        "from tensorflow.keras.callbacks import EarlyStopping\n",
        "from sklearn.model_selection import GroupKFold\n",
        "from sklearn.preprocessing import StandardScaler\n",
        "from sklearn.metrics import accuracy_score, f1_score, precision_score, recall_score\n",
        "import matplotlib.pyplot as plt\n",
        "\n",
        "# Define CNN model with more filters and layers\n",
        "def cnnmodel():\n",
        "    clear_session()\n",
        "    model = Sequential()\n",
        "    model.add(Conv1D(filters=16, kernel_size=3, strides=1, input_shape=(6250, 19)))\n",
        "    model.add(BatchNormalization())\n",
        "    model.add(LeakyReLU())\n",
        "    model.add(MaxPool1D(pool_size=2, strides=2))\n",
        "\n",
        "    model.add(Conv1D(filters=32, kernel_size=3, strides=1))\n",
        "    model.add(BatchNormalization())\n",
        "    model.add(LeakyReLU())\n",
        "    model.add(MaxPool1D(pool_size=2, strides=2))\n",
        "    model.add(Dropout(0.5))\n",
        "\n",
        "    model.add(Conv1D(filters=64, kernel_size=3, strides=1))\n",
        "    model.add(BatchNormalization())\n",
        "    model.add(LeakyReLU())\n",
        "    model.add(GlobalAveragePooling1D())\n",
        "\n",
        "    model.add(Dense(1, activation='sigmoid'))\n",
        "\n",
        "    model.compile(optimizer='adam', loss='binary_crossentropy', metrics=['accuracy'])\n",
        "    return model\n",
        "\n",
        "model=cnnmodel()\n",
        "model.summary()"
      ]
    },
    {
      "cell_type": "code",
      "execution_count": 20,
      "id": "OkeySSjCa3qq",
      "metadata": {
        "colab": {
          "base_uri": "https://localhost:8080/"
        },
        "id": "OkeySSjCa3qq",
        "outputId": "36fcb63d-af3a-4a02-9fa6-9160ed889402"
      },
      "outputs": [
        {
          "name": "stdout",
          "output_type": "stream",
          "text": [
            "Training fold 1\n",
            "Epoch 1/30\n",
            "8/8 [==============================] - 5s 395ms/step - loss: 0.6663 - accuracy: 0.5796 - val_loss: 0.7289 - val_accuracy: 0.3723\n",
            "Epoch 2/30\n",
            "8/8 [==============================] - 3s 328ms/step - loss: 0.6224 - accuracy: 0.6520 - val_loss: 0.7608 - val_accuracy: 0.3723\n",
            "Epoch 3/30\n",
            "8/8 [==============================] - 3s 324ms/step - loss: 0.5844 - accuracy: 0.7212 - val_loss: 0.7851 - val_accuracy: 0.3723\n",
            "Epoch 4/30\n",
            "8/8 [==============================] - 3s 329ms/step - loss: 0.5375 - accuracy: 0.7827 - val_loss: 0.8016 - val_accuracy: 0.3723\n",
            "Epoch 5/30\n",
            "8/8 [==============================] - 3s 334ms/step - loss: 0.4904 - accuracy: 0.8189 - val_loss: 0.8133 - val_accuracy: 0.3723\n",
            "Epoch 6/30\n",
            "8/8 [==============================] - 3s 316ms/step - loss: 0.4457 - accuracy: 0.8386 - val_loss: 0.8169 - val_accuracy: 0.3896\n",
            "8/8 [==============================] - 0s 13ms/step\n",
            "Fold 1 - Accuracy: 0.3723, F1 Score: 0.5426\n",
            "Training fold 2\n",
            "Epoch 1/30\n",
            "8/8 [==============================] - 5s 398ms/step - loss: 0.6989 - accuracy: 0.4786 - val_loss: 0.6750 - val_accuracy: 0.4709\n",
            "Epoch 2/30\n",
            "8/8 [==============================] - 3s 329ms/step - loss: 0.6496 - accuracy: 0.6036 - val_loss: 0.6829 - val_accuracy: 0.4709\n",
            "Epoch 3/30\n",
            "8/8 [==============================] - 3s 328ms/step - loss: 0.6099 - accuracy: 0.7105 - val_loss: 0.6757 - val_accuracy: 0.4709\n",
            "Epoch 4/30\n",
            "8/8 [==============================] - 3s 337ms/step - loss: 0.5602 - accuracy: 0.7799 - val_loss: 0.6684 - val_accuracy: 0.4709\n",
            "Epoch 5/30\n",
            "8/8 [==============================] - 3s 344ms/step - loss: 0.5093 - accuracy: 0.8558 - val_loss: 0.6692 - val_accuracy: 0.5291\n",
            "Epoch 6/30\n",
            "8/8 [==============================] - 3s 344ms/step - loss: 0.4519 - accuracy: 0.8771 - val_loss: 0.6740 - val_accuracy: 0.5534\n",
            "Epoch 7/30\n",
            "8/8 [==============================] - 3s 330ms/step - loss: 0.4071 - accuracy: 0.8910 - val_loss: 0.6736 - val_accuracy: 0.5631\n",
            "Epoch 8/30\n",
            "8/8 [==============================] - 3s 343ms/step - loss: 0.3511 - accuracy: 0.9177 - val_loss: 0.6704 - val_accuracy: 0.5534\n",
            "Epoch 9/30\n",
            "8/8 [==============================] - 3s 336ms/step - loss: 0.3069 - accuracy: 0.9241 - val_loss: 0.6778 - val_accuracy: 0.6068\n",
            "7/7 [==============================] - 0s 20ms/step\n",
            "Fold 2 - Accuracy: 0.4709, F1 Score: 0.6403\n",
            "Training fold 3\n",
            "Epoch 1/30\n",
            "8/8 [==============================] - 5s 396ms/step - loss: 0.7172 - accuracy: 0.4824 - val_loss: 0.7394 - val_accuracy: 0.5000\n",
            "Epoch 2/30\n",
            "8/8 [==============================] - 3s 313ms/step - loss: 0.6510 - accuracy: 0.5650 - val_loss: 0.8150 - val_accuracy: 0.5000\n",
            "Epoch 3/30\n",
            "8/8 [==============================] - 3s 319ms/step - loss: 0.6118 - accuracy: 0.6399 - val_loss: 0.8372 - val_accuracy: 0.5000\n",
            "Epoch 4/30\n",
            "8/8 [==============================] - 3s 327ms/step - loss: 0.5750 - accuracy: 0.6982 - val_loss: 0.8451 - val_accuracy: 0.5000\n",
            "Epoch 5/30\n",
            "8/8 [==============================] - 3s 313ms/step - loss: 0.5289 - accuracy: 0.7401 - val_loss: 0.8336 - val_accuracy: 0.5000\n",
            "Epoch 6/30\n",
            "8/8 [==============================] - 2s 312ms/step - loss: 0.4899 - accuracy: 0.7863 - val_loss: 0.8360 - val_accuracy: 0.5000\n",
            "8/8 [==============================] - 0s 13ms/step\n",
            "Fold 3 - Accuracy: 0.5000, F1 Score: 0.6667\n",
            "Training fold 4\n",
            "Epoch 1/30\n",
            "8/8 [==============================] - 5s 373ms/step - loss: 0.6501 - accuracy: 0.5949 - val_loss: 0.6327 - val_accuracy: 0.6907\n",
            "Epoch 2/30\n",
            "8/8 [==============================] - 3s 323ms/step - loss: 0.5990 - accuracy: 0.6534 - val_loss: 0.6423 - val_accuracy: 0.6907\n",
            "Epoch 3/30\n",
            "8/8 [==============================] - 2s 313ms/step - loss: 0.5780 - accuracy: 0.6656 - val_loss: 0.6443 - val_accuracy: 0.6907\n",
            "Epoch 4/30\n",
            "8/8 [==============================] - 2s 307ms/step - loss: 0.5589 - accuracy: 0.6976 - val_loss: 0.6339 - val_accuracy: 0.6907\n",
            "Epoch 5/30\n",
            "8/8 [==============================] - 2s 308ms/step - loss: 0.5276 - accuracy: 0.7163 - val_loss: 0.6163 - val_accuracy: 0.6907\n",
            "Epoch 6/30\n",
            "8/8 [==============================] - 2s 309ms/step - loss: 0.5011 - accuracy: 0.7362 - val_loss: 0.6034 - val_accuracy: 0.6864\n",
            "Epoch 7/30\n",
            "8/8 [==============================] - 2s 307ms/step - loss: 0.4667 - accuracy: 0.7748 - val_loss: 0.6019 - val_accuracy: 0.6822\n",
            "Epoch 8/30\n",
            "8/8 [==============================] - 2s 297ms/step - loss: 0.4313 - accuracy: 0.7969 - val_loss: 0.6034 - val_accuracy: 0.7373\n",
            "Epoch 9/30\n",
            "8/8 [==============================] - 3s 313ms/step - loss: 0.4031 - accuracy: 0.8201 - val_loss: 0.6355 - val_accuracy: 0.6483\n",
            "Epoch 10/30\n",
            "8/8 [==============================] - 2s 302ms/step - loss: 0.3708 - accuracy: 0.8477 - val_loss: 0.6697 - val_accuracy: 0.5381\n",
            "Epoch 11/30\n",
            "8/8 [==============================] - 3s 327ms/step - loss: 0.3410 - accuracy: 0.8565 - val_loss: 0.8659 - val_accuracy: 0.3305\n",
            "Epoch 12/30\n",
            "8/8 [==============================] - 3s 310ms/step - loss: 0.3056 - accuracy: 0.8962 - val_loss: 0.8322 - val_accuracy: 0.3517\n",
            "8/8 [==============================] - 0s 15ms/step\n",
            "Fold 4 - Accuracy: 0.6822, F1 Score: 0.7851\n",
            "Training fold 5\n",
            "Epoch 1/30\n",
            "8/8 [==============================] - 6s 380ms/step - loss: 0.6362 - accuracy: 0.6229 - val_loss: 0.5797 - val_accuracy: 0.6936\n",
            "Epoch 2/30\n",
            "8/8 [==============================] - 3s 320ms/step - loss: 0.6075 - accuracy: 0.6483 - val_loss: 0.5710 - val_accuracy: 0.6936\n",
            "Epoch 3/30\n",
            "8/8 [==============================] - 3s 318ms/step - loss: 0.5783 - accuracy: 0.6935 - val_loss: 0.5747 - val_accuracy: 0.6936\n",
            "Epoch 4/30\n",
            "8/8 [==============================] - 2s 308ms/step - loss: 0.5449 - accuracy: 0.7530 - val_loss: 0.5772 - val_accuracy: 0.6936\n",
            "Epoch 5/30\n",
            "8/8 [==============================] - 2s 309ms/step - loss: 0.5009 - accuracy: 0.7993 - val_loss: 0.5767 - val_accuracy: 0.6936\n",
            "Epoch 6/30\n",
            "8/8 [==============================] - 3s 316ms/step - loss: 0.4582 - accuracy: 0.8324 - val_loss: 0.5725 - val_accuracy: 0.6936\n",
            "Epoch 7/30\n",
            "8/8 [==============================] - 3s 317ms/step - loss: 0.4242 - accuracy: 0.8501 - val_loss: 0.5674 - val_accuracy: 0.6851\n",
            "Epoch 8/30\n",
            "8/8 [==============================] - 3s 317ms/step - loss: 0.3677 - accuracy: 0.8820 - val_loss: 0.5609 - val_accuracy: 0.6851\n",
            "Epoch 9/30\n",
            "8/8 [==============================] - 3s 315ms/step - loss: 0.3403 - accuracy: 0.8886 - val_loss: 0.5602 - val_accuracy: 0.6851\n",
            "Epoch 10/30\n",
            "8/8 [==============================] - 2s 305ms/step - loss: 0.3040 - accuracy: 0.9085 - val_loss: 0.5506 - val_accuracy: 0.6936\n",
            "Epoch 11/30\n",
            "8/8 [==============================] - 2s 285ms/step - loss: 0.2746 - accuracy: 0.9250 - val_loss: 0.5522 - val_accuracy: 0.7021\n",
            "Epoch 12/30\n",
            "8/8 [==============================] - 2s 300ms/step - loss: 0.2471 - accuracy: 0.9372 - val_loss: 0.5556 - val_accuracy: 0.7277\n",
            "Epoch 13/30\n",
            "8/8 [==============================] - 2s 299ms/step - loss: 0.2089 - accuracy: 0.9471 - val_loss: 0.6870 - val_accuracy: 0.6426\n",
            "Epoch 14/30\n",
            "8/8 [==============================] - 2s 301ms/step - loss: 0.1860 - accuracy: 0.9625 - val_loss: 0.7913 - val_accuracy: 0.5574\n",
            "Epoch 15/30\n",
            "8/8 [==============================] - 3s 324ms/step - loss: 0.1595 - accuracy: 0.9658 - val_loss: 1.0368 - val_accuracy: 0.3915\n",
            "8/8 [==============================] - 0s 12ms/step\n",
            "Fold 5 - Accuracy: 0.6936, F1 Score: 0.7989\n",
            "\n",
            "Mean metrics across folds:\n",
            "{'accuracy': 0.5437977139618486, 'f1_score': 0.6867000823910295, 'precision': 0.5626121263640839, 'recall': 0.943558282208589}\n"
          ]
        }
      ],
      "source": [
        "gkf = GroupKFold(n_splits=5)\n",
        "all_fold_metrics = {'accuracy': [], 'f1_score': [], 'precision': [], 'recall': []}\n",
        "\n",
        "# Group K-Fold cross-validation\n",
        "for fold, (train_index, val_index) in enumerate(gkf.split(data_array, label_array, groups=group_array)):\n",
        "    print(f\"Training fold {fold+1}\")\n",
        "    train_features, train_labels = data_array[train_index], label_array[train_index]\n",
        "    val_features, val_labels = data_array[val_index], label_array[val_index]\n",
        "\n",
        "    # Scale features\n",
        "    scaler = StandardScaler()\n",
        "    train_features = scaler.fit_transform(train_features.reshape(-1, train_features.shape[-1])).reshape(train_features.shape)\n",
        "    val_features = scaler.transform(val_features.reshape(-1, val_features.shape[-1])).reshape(val_features.shape)\n",
        "\n",
        "    # Initialize and train model\n",
        "    model = cnnmodel()\n",
        "    early_stopping = EarlyStopping(monitor='val_loss', patience=5, restore_best_weights=True)\n",
        "    history = model.fit(train_features, train_labels, epochs=30, batch_size=120,\n",
        "                        validation_data=(val_features, val_labels), callbacks=[early_stopping], verbose=1)\n",
        "\n",
        "    # Get predictions and calculate metrics\n",
        "    y_pred = (model.predict(val_features) > 0.5).astype(\"int32\")\n",
        "    all_fold_metrics['accuracy'].append(accuracy_score(val_labels, y_pred))\n",
        "    all_fold_metrics['f1_score'].append(f1_score(val_labels, y_pred))\n",
        "    all_fold_metrics['precision'].append(precision_score(val_labels, y_pred))\n",
        "    all_fold_metrics['recall'].append(recall_score(val_labels, y_pred))\n",
        "\n",
        "    print(f\"Fold {fold+1} - Accuracy: {all_fold_metrics['accuracy'][-1]:.4f}, F1 Score: {all_fold_metrics['f1_score'][-1]:.4f}\")\n",
        "\n",
        "# Compute mean metrics across folds\n",
        "mean_metrics = {metric: np.mean(values) for metric, values in all_fold_metrics.items()}\n",
        "print(\"\\nMean metrics across folds:\")\n",
        "print(mean_metrics)"
      ]
    }
  ],
  "metadata": {
    "accelerator": "TPU",
    "colab": {
      "gpuType": "V28",
      "provenance": []
    },
    "kernelspec": {
      "display_name": "Python 3",
      "name": "python3"
    },
    "language_info": {
      "codemirror_mode": {
        "name": "ipython",
        "version": 3
      },
      "file_extension": ".py",
      "mimetype": "text/x-python",
      "name": "python",
      "nbconvert_exporter": "python",
      "pygments_lexer": "ipython3",
      "version": "3.8.8"
    }
  },
  "nbformat": 4,
  "nbformat_minor": 5
}
